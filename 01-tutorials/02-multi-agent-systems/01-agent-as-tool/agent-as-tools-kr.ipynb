# Strands Agents에서 도구로서의 에이전트
"도구로서의 에이전트(Agents as Tools)"는 AI 시스템에서 특수 AI 에이전트를 다른 에이전트가 사용할 수 있는 호출 가능한 함수(도구)로 래핑하는 아키텍처 패턴입니다. 이는 다음과 같은 계층적 구조를 생성합니다:

1. 주요 "오케스트레이터" 에이전트가 사용자 상호작용을 처리하고 어떤 특수 에이전트를 호출할지 결정합니다

2. 특수 "도구 에이전트"는 오케스트레이터에 의해 호출될 때 도메인별 작업을 수행합니다

이 접근 방식은 관리자가 전문가를 조정하고, 각 전문가가 복잡한 문제를 해결하기 위해 고유한 전문 지식을 제공하는 인간 팀 역학을 모방합니다. 단일 에이전트가 모든 것을 처리하려고 하는 대신, 작업은 가장 적합한 특수 에이전트에게 위임됩니다.
## 주요 이점 및 핵심 원칙
"도구로서의 에이전트" 패턴은 여러 가지 이점을 제공합니다:

- 관심사의 분리: 각 에이전트는 집중된 책임 영역을 가지고 있어 시스템을 이해하고 유지하기 쉽습니다
- 계층적 위임: 오케스트레이터가 어떤 전문가를 호출할지 결정하여 명확한 명령 체계를 만듭니다
- 모듈식 아키텍처: 전체 시스템에 영향을 주지 않고 전문가를 독립적으로 추가, 제거 또는 수정할 수 있습니다
- 향상된 성능: 각 에이전트는 특정 작업에 최적화된 맞춤형 시스템 프롬프트와 도구를 가질 수 있습니다
!pip install -r requirements.txt
import os

from strands import Agent, tool
from strands_tools import file_write

이 모듈에서는 오케스트레이터 기반 멀티 에이전트 워크플로우를 만들 것입니다.

<div style="text-align:left">
    <img src="images/architecture.png" width="75%" />
</div>

또한 중첩된 에이전트를 생성할 수 있는 `use_llm`을 탐색할 것입니다.
## 리서치 에이전트
먼저 http_request 도구가 있는 기본 리서치 어시스턴트를 만들어 보겠습니다.
RESEARCH_ASSISTANT_PROMPT = """You are a specialized research assistant. Focus only on providing
factual, well-sourced information in response to research questions.
Always cite your sources when possible."""
research_agent = Agent(
    model="us.anthropic.claude-3-7-sonnet-20250219-v1:0",
    system_prompt=RESEARCH_ASSISTANT_PROMPT,
    # tools=[http_request]  # Here you can enable an agentic ai search tool
)

query = "Overview of Amazon Bedrock and its features"
# Call the agent and return its response
response = research_agent(query)
이제 이 에이전트를 도구로 래핑할 수 있습니다. 이를 통해 다른 에이전트가 이와 상호작용할 수 있습니다.

#### 도구로서의 에이전트 모범 사례

Strandly AI로 "도구로서의 에이전트" 패턴을 구현할 때:

1. 명확한 도구 문서화: 에이전트의 전문성을 설명하는 설명적인 독스트링 작성
2. 집중된 시스템 프롬프트: 각 특수 에이전트를 해당 도메인에 엄격하게 집중시키기
3. 적절한 응답 처리: 응답을 추출하고 형식화하기 위한 일관된 패턴 사용
4. 도구 선택 지침: 오케스트레이터에게 각 특수 에이전트를 사용할 시기에 대한 명확한 기준 제공
@tool
def research_assistant(query: str) -> str:
    """
    Process and respond to research-related queries.

    Args:
        query: A research question requiring factual information

    Returns:
        A detailed research answer with citations
    """
    try:
        # Strands agents makes it easy to create a specialized agent
        research_agent = Agent(
            model="us.anthropic.claude-3-7-sonnet-20250219-v1:0",
            system_prompt=RESEARCH_ASSISTANT_PROMPT,
        )

        # Call the agent and return its response
        response = research_agent(query)
        return str(response)
    except Exception as e:
        return f"Error in research assistant: {str(e)}"
이제 모범 사례를 따라 `product_recommendation_assistant`, `trip_planning_assistant`, 그리고 `orchestrator` 에이전트를 만들어 보겠습니다.
### 제품 추천 어시스턴트
@tool
def product_recommendation_assistant(query: str) -> str:
    """
    Handle product recommendation queries by suggesting appropriate products.

    Args:
        query: A product inquiry with user preferences

    Returns:
        Personalized product recommendations with reasoning
    """
    try:
        product_agent = Agent(
            model="us.anthropic.claude-3-7-sonnet-20250219-v1:0",  # Optional: Specify the model ID
            system_prompt="""You are a specialized product recommendation assistant.
            Provide personalized product suggestions based on user preferences. Always cite your sources.""",
        )
        # Call the agent and return its response
        response = product_agent(query)

        return str(response)
    except Exception as e:
        return f"Error in product recommendation: {str(e)}"
product_recommendation_assistant("Product recommendations for flying cars")
### 여행 계획 어시스턴트
@tool
def trip_planning_assistant(query: str) -> str:
    """
    Create travel itineraries and provide travel advice.

    Args:
        query: A travel planning request with destination and preferences

    Returns:
        A detailed travel itinerary or travel advice
    """
    try:
        travel_agent = Agent(
            model="us.anthropic.claude-3-7-sonnet-20250219-v1:0",  # Optional: Specify the model ID
            system_prompt="""You are a specialized travel planning assistant.
            Create detailed travel itineraries based on user preferences.""",
        )
        # Call the agent and return its response
        response = travel_agent(query)

        return str(response)
    except Exception as e:
        return f"Error in trip planning: {str(e)}"
### 오케스트레이터 에이전트
# Define orchestrator system prompt with clear tool selection guidance
MAIN_SYSTEM_PROMPT = """
You are an assistant that routes queries to specialized agents:
- For research questions and factual information → Use the research_assistant tool
- For product recommendations and shopping advice → Use the product_recommendation_assistant tool
- For travel planning and itineraries → Use the trip_planning_assistant tool
- For simple questions not requiring specialized knowledge → Answer directly

Always select the most appropriate tool based on the user's query.
"""
# Strands Agents allows easy integration of agent tools
orchestrator = Agent(
    model="us.anthropic.claude-3-7-sonnet-20250219-v1:0",  # Optional: Specify the model ID
    system_prompt=MAIN_SYSTEM_PROMPT,
    tools=[
        research_assistant,
        product_recommendation_assistant,
        trip_planning_assistant,
        file_write,
    ],
)
# Example: E-commerce Customer Service System
customer_query = (
    "I'm looking for hiking boots. Write the final response to current directory."
)

os.environ["BYPASS_TOOL_CONSENT"] = "true"

# The orchestrator automatically determines this requires multiple specialized agents
response = orchestrator(customer_query)
오케스트레이터의 메시지를 살펴보겠습니다. 여기서 에이전트가 하위 에이전트를 도구로 사용하기로 결정한 것을 볼 수 있습니다.
orchestrator.messages
customer_query = "Can you help me plan my trip to Patagonia"

response = orchestrator(customer_query)
orchestrator.messages
### 여러 에이전트 호출하기
orchestrator.messages = []
query = "Can you do a research on spain? Also help me plan a 7 day trip."

orchestrator(query)
내부적으로 오케스트레이터는:
1. 먼저 `research_assistant`를 호출합니다
2. 그런 다음 `trip_planning_assistant`를 호출합니다
3. 이러한 특수 응답들을 두 쿼리를 모두 다루는 일관된 답변으로 결합합니다
### 순차적 에이전트 통신 패턴
에이전트 도구는 여러 에이전트를 함께 결합할 수도 있습니다. 이 예제에서는 `research_agent`의 출력을 `summary_agent`에 제공하고 요약된 응답을 반환할 것입니다.
 # define the user query
topic = "generative Ai"
# Create a research agent
research_agent = Agent(
    model="us.anthropic.claude-3-7-sonnet-20250219-v1:0",
    system_prompt=RESEARCH_ASSISTANT_PROMPT,
)
# Create a summarization agent
summary_agent = Agent(
    model="us.anthropic.claude-3-7-sonnet-20250219-v1:0",
    system_prompt="""
    You are a summarization specialist focused on distilling complex information into clear, concise summaries.
    Your primary goal is to take detailed information and extract the key points, main arguments, and critical data.
    You should maintain the accuracy of the original content while making it more digestible.
    Focus on clarity, brevity, and highlighting the most important aspects of the information.
    """,
)

print("Multiple agents created successfully!")
print(f"\n🔍 RESEARCH AGENT working on: {topic}\n") 
try:
    # Agent 1: Invoke research agent
    research_response = research_agent(
        f"Please gather comprehensive information about {topic}."
    )
    research_text = research_response.message.content[0]["text"]
    print("\n✂️ SUMMARY AGENT distilling the research\n")
    
    # Agent 2: Ask the summary agent to create a concise summary
    summary_response = summary_agent(
        f"Please create a concise summary of this research: {research_text}"
    )
    summary_text = summary_response.message.content[0]["text"]
    
    print(summary_text)
except Exception as e:
    print(f"Error in research assistant: {str(e)}")
## 축하합니다!

Strands Agents에서 도구로서의 에이전트를 사용하여 더 복잡한 에이전트 애플리케이션을 만드는 방법을 배웠습니다.
